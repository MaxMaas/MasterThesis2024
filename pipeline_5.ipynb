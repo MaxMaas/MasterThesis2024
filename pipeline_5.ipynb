{
 "cells": [
  {
   "cell_type": "markdown",
   "metadata": {},
   "source": [
    "# Pipeline 3: Categorical patient demographics for predicting the length of stay\n",
    "\n",
    "This notebook presents all code used for the evaluation of the code produced for the third pipeline, as well as the related relational algebra"
   ]
  },
  {
   "cell_type": "markdown",
   "metadata": {},
   "source": [
    "# Relational algebra\n",
    "$D_{inputevents}(subject\\_id, hadm\\_id, stay\\_id, caregiver\\_id, starttime, endtime, storetime, itemid, amount, amountuom, rate, rateuom, orderid, linkorderid, ordercategoryname, secondaryordercategoryname, ordercomponenttypedescription, ordercategorydescription, patientweight, totalamount, totalamountuom, isopenbag, continueinnextdept, statusdescription, originalamount, highnormalvalue)$\n",
    "\n",
    "$D_{d\\_items}(itemid, label, abbreviation, linksto, category, unitname, param\\_type, lownormalvalue, conceptid)$\n",
    "\n",
    "$inputevents\\_rate = \\sigma_{rate IS NOT NULL}(inputevents)$\n",
    "\n",
    "$d\\_items\\_s = \\sigma_{*}(d\\_items)$\n",
    " \n",
    "$inputevents\\_d\\_items = inputevents\\_rate\\bowtie_{inputevents\\_rate.itemid = d\\_items\\_s.itemid}d\\_items\\_s$\n",
    "\n",
    "$inputevents\\_d\\_items = \\rho_{patient\\_id/subject\\_id}(inputevents\\_d\\_items)$\n",
    "\n",
    "$final\\_data = \\pi_{subject\\_id, hadm\\_id, starttime, endtime, itemid, label, amount, rate, rateuom and totalamount}(inputevents\\_d\\_items)$\n",
    "\n",
    "$final\\_data  = \\tau_{starttime}(final\\_data)$"
   ]
  },
  {
   "cell_type": "code",
   "execution_count": null,
   "metadata": {},
   "outputs": [],
   "source": [
    "# Necessary imports and setup of connection to the database\n",
    "\n",
    "import polars as pl\n",
    "from sqlalchemy import create_engine, inspect, Table, MetaData, Column, Integer, String, DateTime, Float, Boolean\n",
    "import numpy as np\n",
    "\n",
    "engine = create_engine(r\"sqlite://path to where mimic4.db is stored\") #change this to the path where mimic.db is stored. If timeout occurs, add pool_size and pool_timeout to the engine creation"
   ]
  },
  {
   "cell_type": "code",
   "execution_count": null,
   "metadata": {},
   "outputs": [],
   "source": [
    "# Ground truth code, used for comparison\n",
    "metadata = MetaData()\n",
    "\n",
    "inputevents = Table(\n",
    "    'inputevents', metadata,\n",
    "    Column('subject_id', Integer, nullable=False),\n",
    "    Column('hadm_id', Integer, nullable=False),\n",
    "    Column('stay_id', Integer, primary_key=True),\n",
    "    Column('caregiver_id', Integer, nullable=False),\n",
    "    Column('starttime', DateTime, nullable=False),\n",
    "    Column('endtime', DateTime, nullable=True),\n",
    "    Column('storetime', DateTime, nullable=False),\n",
    "    Column('itemid', Integer, ForeignKey(\"d_items.itemid\"), nullable=False),\n",
    "    Column('amount', Float, nullable=False),\n",
    "    Column('amountuom', String, nullable=True),\n",
    "    Column('rate', Float, nullable=True),\n",
    "    Column('rateuom', String, nullable=True),\n",
    "    Column('orderid', Integer, nullable=False),\n",
    "    Column('linkorderid', Integer, nullable=False),\n",
    "    Column('ordercategoryname', String, nullable=False),\n",
    "    Column('secondaryordercategoryname', String, nullable=True),\n",
    "    Column('ordercomponenttypedescription', String, nullable=True),\n",
    "    Column('ordercategorydescription', String, nullable=False),\n",
    "    Column('patientweight', Float, nullable=False),\n",
    "    Column('totalamount', Float, nullable=False),\n",
    "    Column('totalamountuom', String, nullable=False),\n",
    "    Column('isopenbag', Boolean, nullable=False),\n",
    "    Column('continueinnextdept', Integer, nullable=False),\n",
    "    Column('statusdescription', String, nullable=False),\n",
    "    Column('originalamount', Float, nullable=True),\n",
    "    Column('highnormalvalue', Float, nullable=True)\n",
    ")\n",
    "\n",
    "\n",
    "d_items = Table(\n",
    "    'd_items', metadata,\n",
    "    Column('itemid', Integer, primary_key=True, nullable=False),\n",
    "    Column('label', String, nullable=False),\n",
    "    Column('abbreviation', String, nullable=False),\n",
    "    Column('linksto', String, nullable=False),\n",
    "    Column('category', String, nullable=False),\n",
    "    Column('unitname', String, nullable=True),\n",
    "    Column('param_type', String, nullable=False),\n",
    "    Column('lownormalvalue', String, nullable=True),\n",
    "    Column('conceptid', Integer, nullable=True)\n",
    ")\n",
    "\n",
    "\n",
    "metadata.reflect(bind=engine)\n",
    "\n",
    "query = \"\"\"\n",
    "SELECT *\n",
    "FROM inputevents\n",
    "WHERE rate is not null\n",
    "\"\"\"\n",
    "\n",
    "query2 = \"\"\"\n",
    "SELECT *\n",
    "FROM d_items\n",
    "\"\"\"\n",
    "\n",
    "df1 = pl.read_database(query=query, connection=engine.connect())\n",
    "df2 = pl.read_database(query=query2, connection=engine.connect(), infer_schema_length=10000)\n",
    "\n",
    "\n",
    "df1_df2 = df1.join(df2, on=\"itemid\")\n",
    "\n",
    "df1_df2 = df1_df2.rename({\"subject_id\": \"patient_id\"})\n",
    "\n",
    "df1_df2 = df1_df2.select(['patient_id', 'hadm_id', 'starttime', 'endtime', 'itemid', 'label', 'amount', 'rate', 'rateuom', 'totalamount'])\n",
    "\n",
    "df1_df2 = df1_df2.sort('starttime')\n",
    "\n",
    "df1_df2"
   ]
  },
  {
   "cell_type": "markdown",
   "metadata": {},
   "source": [
    "# Code Valdity \n",
    "\n",
    "In the code block below, the generated code produced by the LLM can be pasted and executed, to assess if the code works without any runtime errors."
   ]
  },
  {
   "cell_type": "code",
   "execution_count": null,
   "metadata": {},
   "outputs": [],
   "source": [
    "# Paste generated code here "
   ]
  },
  {
   "cell_type": "markdown",
   "metadata": {},
   "source": [
    "# Code correctness\n",
    "\n",
    "To assess the code correctness, the code below can be executed. If it is correct, True should be returned. Otherwise, manual inspection in the code block below should be executed. It is assumed the presented solution is stored in a variable called 'final data'."
   ]
  },
  {
   "cell_type": "code",
   "execution_count": null,
   "metadata": {},
   "outputs": [],
   "source": [
    "df1_df2.equals(final_data)"
   ]
  },
  {
   "cell_type": "code",
   "execution_count": null,
   "metadata": {},
   "outputs": [],
   "source": [
    "#  Execute this code if the dataframes are not equal to see the differences\n",
    "df_combined_pandas = df_combined.to_pandas()\n",
    "final_data_pandas = final_data.to_pandas()\n",
    "\n",
    "df_diff = df_combined_pandas.compare(final_data_pandas)\n",
    "\n",
    "if not df_combined_pandas.equals(final_data_pandas):\n",
    "    print(df_diff)"
   ]
  },
  {
   "cell_type": "markdown",
   "metadata": {},
   "source": [
    "# Relative Efficiency\n",
    "\n",
    "To record the average running time for the generated solution, the generated solution can be added to the code block below and executed. The average executrion time should be recorded per solution, for later determination of the relative efficiency"
   ]
  },
  {
   "cell_type": "code",
   "execution_count": null,
   "metadata": {},
   "outputs": [],
   "source": [
    "import time\n",
    "import numpy as np\n",
    "import warnings\n",
    "\n",
    "# Ignore all warnings\n",
    "warnings.filterwarnings('ignore')\n",
    "\n",
    "execution_times = []\n",
    "\n",
    "for i in range(10):\n",
    "    start_time = time.time()\n",
    "\n",
    "    # Paste generated code here\n",
    "\n",
    "    end_time = time.time()\n",
    "\n",
    "    execution_time = end_time - start_time\n",
    "    execution_times.append(execution_time)\n",
    "\n",
    "\n",
    "average_execution_time = np.mean(execution_times)\n",
    "\n",
    "print(f\"The code executed in average {average_execution_time} seconds over 10 runs.\")"
   ]
  },
  {
   "cell_type": "code",
   "execution_count": null,
   "metadata": {},
   "outputs": [],
   "source": [
    "# To calculate the relative efficiency of the generated solutions\n",
    "def relative_efficiencies(times):\n",
    "    tmin = min(times)\n",
    "    tmax = max(times)\n",
    "    efficiencies = [100 * (1 - (tc - tmin) / (tmax - tmin)) for tc in times]\n",
    "    return efficiencies\n",
    "\n",
    "time_gt = [204.8] # ground truth time\n",
    "solutions = [] # Add the times from the 10 runs here\n",
    "times = time_gt + solutions\n",
    "\n",
    "\n",
    "re = relative_efficiencies(times)\n",
    "# Calculate average\n",
    "average = np.mean(re[1:])\n",
    "print(f'Average: {average}')"
   ]
  }
 ],
 "metadata": {
  "kernelspec": {
   "display_name": "Python 3",
   "language": "python",
   "name": "python3"
  },
  "language_info": {
   "codemirror_mode": {
    "name": "ipython",
    "version": 3
   },
   "file_extension": ".py",
   "mimetype": "text/x-python",
   "name": "python",
   "nbconvert_exporter": "python",
   "pygments_lexer": "ipython3",
   "version": "3.9.13"
  }
 },
 "nbformat": 4,
 "nbformat_minor": 2
}
