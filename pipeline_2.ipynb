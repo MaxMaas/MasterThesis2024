{
 "cells": [
  {
   "cell_type": "markdown",
   "metadata": {},
   "source": [
    "# Pipeline 2: Retrieval of patient information of patients that are still alive\n",
    "\n",
    "This notebook presents all code used for the evaluation of the code produced for the second pipeline, as well as the related relational algebra"
   ]
  },
  {
   "cell_type": "markdown",
   "metadata": {},
   "source": [
    "# Relational algebra\n",
    "\n",
    "$D_{patients}(subject\\_id, gender, anchor\\_age, anchor\\_year, anchor\\_year\\_group, dod)$\n",
    "\n",
    "$patients\\_nd = \\sigma_{dod = Null}(patients)$\n",
    "\n",
    "\n",
    "$patients\\_nd\\_by = \\pi_{*, birth\\_year(*)}(patients\\_nd)$\n",
    "\n",
    "$patients\\_nd\\_by = \\rho_{patient\\_id/subject\\_id, age\\_at\\_care/anchor\\_age, year\\_of\\_care/anchor_year}(patients\\_nd\\_by)$\n",
    "\n",
    "$final\\_data = \\pi_{patient\\_id, gender, age\\_at\\_care, year\\_of\\_care, anchor\\_year\\_group, birth\\_year}(patients\\_nd\\_by)$"
   ]
  },
  {
   "cell_type": "code",
   "execution_count": null,
   "metadata": {},
   "outputs": [],
   "source": [
    "# Necessary imports and setup of connection to the database\n",
    "\n",
    "import polars as pl\n",
    "from sqlalchemy import create_engine, inspect, Table, MetaData, Column, Integer, String, DateTime, Float, Boolean\n",
    "import numpy as np\n",
    "\n",
    "engine = create_engine(r\"sqlite://path to where mimic4.db is stored\") #change this to the path where mimic.db is stored"
   ]
  },
  {
   "cell_type": "code",
   "execution_count": null,
   "metadata": {},
   "outputs": [],
   "source": [
    "# Ground truth code, used for comparison\n",
    "\n",
    "metadata = MetaData()\n",
    "\n",
    "patients = Table(\n",
    "   'patients', metadata, \n",
    "    Column('subject_id', Integer, primary_key=True),\n",
    "    Column('gender', String, nullable=False),   \n",
    "    Column('anchor_age', Integer, primary_key=True),\n",
    "    Column('anchor_year', Integer, nullable=False),\n",
    "    Column('anchor_year_group', String, nullable=False),\n",
    "    Column('dod', DateTime, nullable=True)\n",
    ")\n",
    "metadata.reflect(bind=engine)\n",
    "\n",
    "query = \"\"\"\n",
    "SELECT *\n",
    "FROM patients\n",
    "WHERE dod IS NULL\n",
    "\n",
    "\"\"\"\n",
    "df = pl.read_database(query=query, connection=engine.connect())\n",
    "df2 = df.with_columns((pl.col(\"anchor_year\") - pl.col(\"anchor_age\")).alias(\"birth_year\"))\n",
    "\n",
    "df2 = df2.rename({\"subject_id\": \"patient_id\", \"anchor_age\": \"age_at_care\", \"anchor_year\": \"year_of_care\"})\n",
    "\n",
    "final_data_gt = df2.select([\n",
    "    \"patient_id\", \"gender\", \"age_at_care\", \"year_of_care\", 'anchor_year_group', \"birth_year\"])\n",
    "\n",
    "final_data_gt"
   ]
  },
  {
   "cell_type": "markdown",
   "metadata": {},
   "source": [
    "# Code Valdity \n",
    "\n",
    "In the code block below, the generated code produced by the LLM can be pasted and executed, to assess if the code works without any runtime errors."
   ]
  },
  {
   "cell_type": "code",
   "execution_count": null,
   "metadata": {},
   "outputs": [],
   "source": [
    "# Paste generated code here "
   ]
  },
  {
   "cell_type": "markdown",
   "metadata": {},
   "source": []
  },
  {
   "cell_type": "markdown",
   "metadata": {},
   "source": [
    "# Code Correctness\n",
    "\n",
    "To assess the code correctness, the code below can be executed. If it is correct, True should be returned. Otherwise, manual inspection in the code block below should be executed. It is assumed the presented solution is stored in a variable called 'final data'"
   ]
  },
  {
   "cell_type": "code",
   "execution_count": null,
   "metadata": {},
   "outputs": [],
   "source": [
    "# final_data = df\n",
    "final_data_gt.equals(final_data)"
   ]
  },
  {
   "cell_type": "code",
   "execution_count": null,
   "metadata": {},
   "outputs": [],
   "source": [
    "#  Execute this code if the dataframes are not equal to see the differences\n",
    "df_combined_pandas = df_combined.to_pandas()\n",
    "final_data_pandas = final_data.to_pandas()\n",
    "\n",
    "df_diff = df_combined_pandas.compare(final_data_pandas)\n",
    "\n",
    "if not df_combined_pandas.equals(final_data_pandas):\n",
    "    print(df_diff)"
   ]
  },
  {
   "cell_type": "markdown",
   "metadata": {},
   "source": [
    "# Relative Efficiency\n",
    "\n",
    "To record the average running time for the generated solution, the generated solution can be added to the code block below and executed. The average executrion time should be recorded per solution, for later determination of the relative efficiency"
   ]
  },
  {
   "cell_type": "code",
   "execution_count": null,
   "metadata": {},
   "outputs": [],
   "source": [
    "import time\n",
    "import numpy as np\n",
    "import warnings\n",
    "\n",
    "# Ignore all warnings\n",
    "warnings.filterwarnings('ignore')\n",
    "\n",
    "execution_times = []\n",
    "\n",
    "for i in range(10):\n",
    "    start_time = time.time()\n",
    "\n",
    "    # Paste generated code here\n",
    "\n",
    "    end_time = time.time()\n",
    "\n",
    "    execution_time = end_time - start_time\n",
    "    execution_times.append(execution_time)\n",
    "\n",
    "\n",
    "average_execution_time = np.mean(execution_times)\n",
    "\n",
    "print(f\"The code executed in average {average_execution_time} seconds over 10 runs.\")"
   ]
  },
  {
   "cell_type": "code",
   "execution_count": null,
   "metadata": {},
   "outputs": [],
   "source": [
    "# To calculate the relative efficiency of the generated solutions\n",
    "def relative_efficiencies(times):\n",
    "    tmin = min(times)\n",
    "    tmax = max(times)\n",
    "    efficiencies = [100 * (1 - (tc - tmin) / (tmax - tmin)) for tc in times]\n",
    "    return efficiencies\n",
    "\n",
    "time_gt = [48.2] # ground truth time\n",
    "solutions = [] # Add the times from the 10 runs here\n",
    "times = time_gt + solutions\n",
    "\n",
    "re = relative_efficiencies(times)\n",
    "# Calculate average\n",
    "average = np.mean(re[1:])\n",
    "print(f'Average: {average}')\n"
   ]
  }
 ],
 "metadata": {
  "kernelspec": {
   "display_name": "Python 3",
   "language": "python",
   "name": "python3"
  },
  "language_info": {
   "codemirror_mode": {
    "name": "ipython",
    "version": 3
   },
   "file_extension": ".py",
   "mimetype": "text/x-python",
   "name": "python",
   "nbconvert_exporter": "python",
   "pygments_lexer": "ipython3",
   "version": "3.9.13"
  }
 },
 "nbformat": 4,
 "nbformat_minor": 2
}
