{
 "cells": [
  {
   "cell_type": "markdown",
   "metadata": {},
   "source": [
    "# Pipeline 1: Monitoring heartbeats of patients with long stays in ICUs\n",
    "\n",
    "This notebook presents all code used for the evaluation of the code produced for the first pipeline, as well as the related relational algebra"
   ]
  },
  {
   "cell_type": "markdown",
   "metadata": {},
   "source": [
    "# Relational algebra for use pipeline 1\n",
    "\n",
    "$D_{chartevents}(subject\\_id, hadm\\_id, stay\\_id, caregiver\\_id, charttime, storetime, itemid, value, valuenum, valueuom, warning)$\n",
    "\n",
    "$D_{icustays}(subject\\_id, hadm\\_id, stay\\_id, first\\_careunit, last\\_careunit, intime, outtime, los)$\n",
    "\n",
    "$chartevents\\_hb = \\sigma_{itemid=220045 \\wedge valuenum>100}(chartevents)$\n",
    "\n",
    "$icustays\\_long = \\sigma_{los>=4}(icustays)$\n",
    " \n",
    "$icustays\\_chartevents = chartevents\\_hb\\bowtie_{chartevents\\_hb.stay\\_id = icustays\\_long.stay\\_id}icustays\\_long$\n",
    "\n",
    "$icustays\\_chartevents = \\pi_{*, is\\_long(*)}(icustays\\_chartevents)$\n",
    "\n",
    "$icustays\\_chartevents = \\rho_{patient\\_id/subject\\_id, staytime/los}(icustays\\_chartevents)$\n",
    "\n",
    "$final\\_data = \\pi_{patient\\_id, hadm\\_id, stay\\_id, caregiver\\_id, charttime, storetime, itemid, value, valuenum, valueuom, staytime, is\\_long}(icustays\\_chartevents)$"
   ]
  },
  {
   "cell_type": "code",
   "execution_count": null,
   "metadata": {},
   "outputs": [],
   "source": [
    "# Necessary imports and setup of connection to the database\n",
    "\n",
    "import polars as pl\n",
    "from sqlalchemy import create_engine, inspect, Table, MetaData, Column, Integer, String, DateTime, Float, Boolean\n",
    "import numpy as np\n",
    "\n",
    "engine = create_engine(r\"sqlite://path to where mimic4.db is stored\") #change this to the path where mimic.db is stored"
   ]
  },
  {
   "cell_type": "code",
   "execution_count": null,
   "metadata": {},
   "outputs": [],
   "source": [
    "# Ground truth code, used for comparison\n",
    "\n",
    "metadata = MetaData()\n",
    "\n",
    "chartevents = Table(\n",
    "    'chartevents', metadata,\n",
    "    Column('subject_id', Integer, nullable=False),\n",
    "    Column('hadm_id', Integer, nullable=False),\n",
    "    Column('stay_id', Integer, primary_key=True),\n",
    "    Column('caregiver_id', Integer, nullable=False),\n",
    "    Column('charttime', DateTime, primary_key=True, nullable=False),\n",
    "    Column('storetime', DateTime, nullable=False),\n",
    "    Column('itemid', Integer, nullable=False),\n",
    "    Column('value', String),\n",
    "    Column('valuenum', Float),\n",
    "    Column('valueuom', String),\n",
    "    Column('warning', Integer, nullable=False)\n",
    ")\n",
    "\n",
    "icustays = Table(\n",
    "   'icustays', metadata, \n",
    "    Column('subject_id', Integer, nullable=False),\n",
    "    Column('hadm_id', Integer, nullable=False),   \n",
    "    Column('stay_id', Integer, primary_key=True),\n",
    "    Column('first_careunit', String, nullable=False),\n",
    "    Column('last_careunit', String, nullable=False),\n",
    "    Column('intime', DateTime, nullable=False),\n",
    "    Column('outtime', DateTime, nullable=False),\n",
    "    Column('los', Float, nullable=False)\n",
    ")\n",
    "metadata.reflect(bind=engine)\n",
    "\n",
    "query = \"\"\"\n",
    "SELECT *\n",
    "FROM chartevents\n",
    "WHERE itemid = 220045 AND valuenum > 100\n",
    "\"\"\"\n",
    "\n",
    "query2 = \"\"\"\n",
    "SELECT *\n",
    "FROM icustays\n",
    "WHERE los >= 4\n",
    "\"\"\"\n",
    "\n",
    "df1 = pl.read_database(query=query, connection=engine.connect())\n",
    "df2 = pl.read_database(query=query2, connection=engine.connect())\n",
    "\n",
    "df1_df2 = df1.join(df2, on=\"stay_id\")\n",
    "\n",
    "df1_df2 = df1_df2.with_columns(pl.col(\"los\").map_elements(lambda x: 1 if x >= 7 else 0, return_dtype=pl.Int32).alias(\"is_long\"))\n",
    "\n",
    "df1_df2 = df1_df2.rename({\"subject_id\": \"patient_id\"})\n",
    "\n",
    "\n",
    "df1_df2 = df1_df2.rename({\"los\": \"staytime\"})\n",
    "\n",
    "df1_df2 = df1_df2.select([\n",
    "    \"patient_id\", \"hadm_id\", \"stay_id\", \"caregiver_id\", \"charttime\", \n",
    "    \"storetime\", \"itemid\", \"value\", \"valuenum\", \"valueuom\", \n",
    "    \"warning\", \"first_careunit\", \"last_careunit\", \"intime\", \n",
    "    \"outtime\", \"staytime\", \"is_long\"\n",
    "])\n",
    "\n",
    "df1_df2"
   ]
  },
  {
   "cell_type": "markdown",
   "metadata": {},
   "source": [
    "# Code Valdity \n",
    "\n",
    "In the code block below, the generated code produced by the LLM can be pasted and executed, to assess if the code works without any runtime errors.\n"
   ]
  },
  {
   "cell_type": "code",
   "execution_count": null,
   "metadata": {},
   "outputs": [],
   "source": [
    "# Paste generated code here "
   ]
  },
  {
   "cell_type": "markdown",
   "metadata": {},
   "source": []
  },
  {
   "cell_type": "markdown",
   "metadata": {},
   "source": [
    "# Code Correctness\n",
    "\n",
    "To assess the code correctness, the code below can be executed. If it is correct, True should be returned. Otherwise, manual inspection in the code block below should be executed. It is assumed the presented solution is stored in a variable called 'final data'"
   ]
  },
  {
   "cell_type": "code",
   "execution_count": null,
   "metadata": {},
   "outputs": [],
   "source": [
    "final_data.equals(df1_df2)"
   ]
  },
  {
   "cell_type": "code",
   "execution_count": null,
   "metadata": {},
   "outputs": [],
   "source": [
    "#  Execute this code if the dataframes are not equal to see the differences\n",
    "df_combined_pandas = df_combined.to_pandas()\n",
    "final_data_pandas = final_data.to_pandas()\n",
    "\n",
    "df_diff = df_combined_pandas.compare(final_data_pandas)\n",
    "\n",
    "if not df_combined_pandas.equals(final_data_pandas):\n",
    "    print(df_diff)"
   ]
  },
  {
   "cell_type": "markdown",
   "metadata": {},
   "source": [
    "# Relative Efficiency\n",
    "\n",
    "To record the average running time for the generated solution, the generated solution can be added to the code block below and executed. The average executrion time should be recorded per solution, for later determination of the relative efficiency"
   ]
  },
  {
   "cell_type": "code",
   "execution_count": null,
   "metadata": {},
   "outputs": [],
   "source": [
    "import time\n",
    "import numpy as np\n",
    "import warnings\n",
    "\n",
    "# Ignore all warnings\n",
    "warnings.filterwarnings('ignore')\n",
    "\n",
    "execution_times = []\n",
    "\n",
    "for i in range(10):\n",
    "    start_time = time.time()\n",
    "\n",
    "    # Paste generated code here\n",
    "\n",
    "    end_time = time.time()\n",
    "\n",
    "    execution_time = end_time - start_time\n",
    "    execution_times.append(execution_time)\n",
    "\n",
    "\n",
    "average_execution_time = np.mean(execution_times)\n",
    "\n",
    "print(f\"The code executed in average {average_execution_time} seconds over 10 runs.\")"
   ]
  },
  {
   "cell_type": "code",
   "execution_count": null,
   "metadata": {},
   "outputs": [],
   "source": [
    "# To calculate the relative efficiency of the generated solutions\n",
    "def relative_efficiencies(times):\n",
    "    tmin = min(times)\n",
    "    tmax = max(times)\n",
    "    efficiencies = [100 * (1 - (tc - tmin) / (tmax - tmin)) for tc in times]\n",
    "    return efficiencies\n",
    "\n",
    "time_gt = [148.6] # ground truth time\n",
    "solutions = [] # Add the times from the 10 runs here\n",
    "times = time_gt + solutions\n",
    "\n",
    "\n",
    "re = relative_efficiencies(times)\n",
    "# Calculate average\n",
    "average = np.mean(re[1:])\n",
    "print(f'Average: {average}')"
   ]
  },
  {
   "cell_type": "code",
   "execution_count": null,
   "metadata": {},
   "outputs": [],
   "source": [
    "gt_times = [148.6, 48.2, 45.4, 365.7, 204.8]\n",
    "times = [148.6, 110.27,116.82,107.01,116.70,120.221,114.17,118.89,111.11,106.74,121.60]\n",
    "relative_efficiencies(times)"
   ]
  }
 ],
 "metadata": {
  "kernelspec": {
   "display_name": "Python 3",
   "language": "python",
   "name": "python3"
  },
  "language_info": {
   "codemirror_mode": {
    "name": "ipython",
    "version": 3
   },
   "file_extension": ".py",
   "mimetype": "text/x-python",
   "name": "python",
   "nbconvert_exporter": "python",
   "pygments_lexer": "ipython3",
   "version": "3.9.13"
  }
 },
 "nbformat": 4,
 "nbformat_minor": 2
}
