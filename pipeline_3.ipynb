{
 "cells": [
  {
   "cell_type": "markdown",
   "metadata": {},
   "source": [
    "# Pipeline 3: Categorical patient demographics for predicting the length of stay\n",
    "\n",
    "This notebook presents all code used for the evaluation of the code produced for the third pipeline, as well as the related relational algebra"
   ]
  },
  {
   "cell_type": "markdown",
   "metadata": {},
   "source": [
    "# Relational algebra\n",
    "\n",
    "$D_{admissions}(subject\\_id, hadm\\_id, admittime, dischtime, deathtime, admission\\_type, admission\\_location,  insurance, language, marital\\_status, race, edregtime, edouttime, hospital\\_expire\\_flag)$\n",
    "\n",
    "$D_{icustays}(subject\\_id, hadm\\_id, stay\\_id, first\\_careunit, last\\_careunit, intime, outtime, los)$\n",
    "\n",
    "$D_{patients}(subject\\_id, gender, anchor\\_age, anchor\\_year, anchor\\_year\\_group, dod)$\n",
    "\n",
    "$admissions\\_s = \\sigma_{*}(admissions)$\n",
    "\n",
    "$icustays\\_s = \\sigma_{*}(icustays)$\n",
    "\n",
    "$patients\\_s = \\sigma_{*}(patients)$\n",
    "\n",
    "$admissions\\_icustays = admission\\_s\\bowtie_{admissions\\_s.subject\\_id = icustays\\_s.subject\\_id AND admissions\\_s.hadm\\_id = icustays\\_s.hadm\\_id}icustays\\_s$\n",
    "\n",
    "$tables\\_combined = admission\\_icustays\\bowtie_{admission\\_icustays.subject\\_id = patients\\_s.subject\\_id}patients\\_s$\n",
    "\n",
    "$tables\\_combined = \\rho_{staytime/los, ethnicity/race}(tables\\_combined)$\n",
    "\n",
    "$final\\_data = \\pi_{admission\\_type, admission\\_location, language, ethnicity, gender, staytime}(tables\\_combined)$"
   ]
  },
  {
   "cell_type": "code",
   "execution_count": null,
   "metadata": {},
   "outputs": [],
   "source": [
    "# Necessary imports and setup of connection to the database\n",
    "\n",
    "import polars as pl\n",
    "from sqlalchemy import create_engine, inspect, Table, MetaData, Column, Integer, String, DateTime, Float, Boolean\n",
    "import numpy as np\n",
    "\n",
    "engine = create_engine(r\"sqlite://path to where mimic4.db is stored\") #change this to the path where mimic.db is stored. If timeout occurs, add pool_size and pool_timeout to the engine creation"
   ]
  },
  {
   "cell_type": "code",
   "execution_count": null,
   "metadata": {},
   "outputs": [],
   "source": [
    "# Ground truth code, used for comparison\n",
    "metadata = MetaData()\n",
    "\n",
    "admissions = Table(\n",
    "   'admissions', metadata, \n",
    "    Column('subject_id', Integer, nullable=False),\n",
    "    Column('hadm_id', Integer, nullable=False),\n",
    "    Column('admittime', DateTime, nullable=False),\n",
    "    Column('dischtime', DateTime, nullable=False),\n",
    "    Column('deathtime', DateTime, nullable=True),\n",
    "    Column('admission_type', String, nullable=False),\n",
    "    Column('admit_provider_id', String, nullable=False),\n",
    "    Column('admission_location', String, nullable=False),\n",
    "    Column('insurance', String, nullable=False),\n",
    "    Column('language', String, nullable=False),\n",
    "    Column('marital_status', String, nullable=False),\n",
    "    Column('race', String, nullable=False), \n",
    "    Column('edregtime', DateTime, nullable=False),\n",
    "    Column('edouttime', DateTime, nullable=False), \n",
    "    Column('hospital_expire_flag', Integer, nullable=False)\n",
    ")\n",
    "\n",
    "icustays = Table(\n",
    "   'icustays', metadata, \n",
    "    Column('subject_id', Integer, nullable=False),\n",
    "    Column('hadm_id', Integer, nullable=False),   \n",
    "    Column('stay_id', Integer, primary_key=True),\n",
    "    Column('first_careunit', String, nullable=False),\n",
    "    Column('last_careunit', String, nullable=False),\n",
    "    Column('intime', DateTime, nullable=False),\n",
    "    Column('outtime', DateTime, nullable=False),\n",
    "    Column('los', Float, nullable=False)\n",
    ")\n",
    "\n",
    "patients = Table(\n",
    "   'patients', metadata, \n",
    "    Column('subject_id', Integer, primary_key=True),\n",
    "    Column('gender', String, nullable=False),   \n",
    "    Column('anchor_age', Integer, primary_key=True),\n",
    "    Column('anchor_year', Integer, nullable=False),\n",
    "    Column('anchor_year_group', String, nullable=False),\n",
    "    Column('dod', DateTime, nullable=True)\n",
    ")\n",
    "metadata.reflect(bind=engine)\n",
    "\n",
    "query = \"\"\"\n",
    "SELECT *\n",
    "FROM admissions\n",
    "\"\"\"\n",
    "\n",
    "query2 = \"\"\"\n",
    "SELECT *\n",
    "FROM icustays\n",
    "\"\"\"\n",
    "\n",
    "query3 = \"\"\"\n",
    "SELECT *\n",
    "FROM patients\n",
    "\"\"\"\n",
    "\n",
    "df1 = pl.read_database(query=query, connection=engine.connect()).drop('index')\n",
    "df2 = pl.read_database(query=query2, connection=engine.connect()).drop('index')\n",
    "df3 = pl.read_database(query=query3, connection=engine.connect()).drop('index')\n",
    "\n",
    "df_combined = df1.join(df2, on= [\"subject_id\", 'hadm_id'],  suffix='_df2').join(df3, on=[\"subject_id\"], suffix='_df3')\n",
    "\n",
    "df_combined = df_combined.rename({\"los\": \"staytime\", \"race\":\"ethnicity\"})\n",
    "\n",
    "df_combined = df_combined.select([\n",
    "   \"admission_type\",\n",
    "   \"admission_location\",\n",
    "   \"language\",\n",
    "   \"marital_status\",\n",
    "   \"ethnicity\",\n",
    "   \"gender\",\n",
    "   \"staytime\"\n",
    "])\n",
    "\n",
    "df_combined"
   ]
  },
  {
   "cell_type": "markdown",
   "metadata": {},
   "source": [
    "# Code Valdity \n",
    "\n",
    "In the code block below, the generated code produced by the LLM can be pasted and executed, to assess if the code works without any runtime errors."
   ]
  },
  {
   "cell_type": "code",
   "execution_count": null,
   "metadata": {},
   "outputs": [],
   "source": [
    "# Paste generated code here "
   ]
  },
  {
   "cell_type": "markdown",
   "metadata": {},
   "source": [
    "# Code correctness\n",
    "\n",
    "To assess the code correctness, the code below can be executed. If it is correct, True should be returned. Otherwise, manual inspection in the code block below should be executed. It is assumed the presented solution is stored in a variable called 'final data'"
   ]
  },
  {
   "cell_type": "code",
   "execution_count": null,
   "metadata": {},
   "outputs": [],
   "source": [
    "df_combined.equals(final_data)"
   ]
  },
  {
   "cell_type": "code",
   "execution_count": null,
   "metadata": {},
   "outputs": [],
   "source": [
    "# Convert the Polars DataFrame to a pandas DataFrame\n",
    "df_combined_pandas = df_combined.to_pandas()\n",
    "final_data_pandas = final_data.to_pandas()\n",
    "\n",
    "# Compare the two dataframes\n",
    "df_diff = df_combined_pandas.compare(final_data_pandas)\n",
    "\n",
    "# If there are differences, print them\n",
    "if not df_combined_pandas.equals(final_data_pandas):\n",
    "    print(df_diff)"
   ]
  },
  {
   "cell_type": "markdown",
   "metadata": {},
   "source": [
    "# Relative Efficiency\n",
    "\n",
    "To record the average running time for the generated solution, the generated solution can be added to the code block below and executed. The average executrion time should be recorded per solution, for later determination of the relative efficiency\n"
   ]
  },
  {
   "cell_type": "code",
   "execution_count": null,
   "metadata": {},
   "outputs": [],
   "source": [
    "import time\n",
    "import numpy as np\n",
    "import warnings\n",
    "\n",
    "# Ignore all warnings\n",
    "warnings.filterwarnings('ignore')\n",
    "\n",
    "execution_times = []\n",
    "\n",
    "for i in range(10):\n",
    "    start_time = time.time()\n",
    "\n",
    "    # Paste generated code here\n",
    "\n",
    "    end_time = time.time()\n",
    "\n",
    "    execution_time = end_time - start_time\n",
    "    execution_times.append(execution_time)\n",
    "\n",
    "\n",
    "average_execution_time = np.mean(execution_times)\n",
    "\n",
    "print(f\"The code executed in average {average_execution_time} seconds over 10 runs.\")"
   ]
  },
  {
   "cell_type": "code",
   "execution_count": null,
   "metadata": {},
   "outputs": [],
   "source": [
    "# To calculate the relative efficiency of the generated solutions\n",
    "def relative_efficiencies(times):\n",
    "    tmin = min(times)\n",
    "    tmax = max(times)\n",
    "    efficiencies = [100 * (1 - (tc - tmin) / (tmax - tmin)) for tc in times]\n",
    "    return efficiencies\n",
    "\n",
    "time_gt = [45.4] # ground truth time\n",
    "solutions = [] # Add the times from the 10 runs here\n",
    "times = time_gt + solutions\n",
    "\n",
    "\n",
    "re = relative_efficiencies(times)\n",
    "# Calculate average\n",
    "average = np.mean(re[1:])\n",
    "print(f'Average: {average}')"
   ]
  }
 ],
 "metadata": {
  "kernelspec": {
   "display_name": "Python 3",
   "language": "python",
   "name": "python3"
  },
  "language_info": {
   "codemirror_mode": {
    "name": "ipython",
    "version": 3
   },
   "file_extension": ".py",
   "mimetype": "text/x-python",
   "name": "python",
   "nbconvert_exporter": "python",
   "pygments_lexer": "ipython3",
   "version": "3.9.13"
  }
 },
 "nbformat": 4,
 "nbformat_minor": 2
}
